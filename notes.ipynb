{
 "cells": [
  {
   "cell_type": "code",
   "execution_count": null,
   "metadata": {},
   "outputs": [],
   "source": [
    "a = [1,2,3]\n",
    "b = [1,2,3]\n",
    "c = []\n",
    "for i in a:\n",
    "    for j in b:\n",
    "        if i != j and {i,j} not in c:\n",
    "            c.append({i,j})\n",
    "\n",
    "print(c)"
   ]
  },
  {
   "cell_type": "code",
   "execution_count": null,
   "metadata": {},
   "outputs": [],
   "source": [
    "a = [1,2,3]\n",
    "b = [1,2,3]\n",
    "c = []\n",
    "c = [{i, j} for i in a for j in b if (i != j) and i < j]\n",
    "print(c)"
   ]
  },
  {
   "cell_type": "code",
   "execution_count": null,
   "metadata": {},
   "outputs": [],
   "source": [
    "ans = 0\n",
    "for i in range(1,27):\n",
    "    ans += i\n",
    "ans"
   ]
  },
  {
   "cell_type": "code",
   "execution_count": null,
   "metadata": {},
   "outputs": [],
   "source": [
    "a = ['H18', 'H16', 'H12', 'B11', 'D15', 'I8', 'K9', 'G12', 'G5', 'H4']\n",
    "b = ('H12', 'H18')\n",
    "\n",
    "if all(elem in a for elem in b):\n",
    "    print(True)\n",
    "else:\n",
    "    print(False)"
   ]
  },
  {
   "cell_type": "code",
   "execution_count": null,
   "metadata": {},
   "outputs": [],
   "source": [
    "a = ['H18', 'H16', 'H12', 'B11', 'D15', 'I8', 'K9', 'G12', 'G5', 'H4']\n",
    "b = ('H12')\n",
    "\n",
    "# l1_data = {key:data.count(key) for key in data if data.count(key) > self.min_support_count}\n",
    "c = a.count(b)\n",
    "print(c)"
   ]
  },
  {
   "cell_type": "code",
   "execution_count": null,
   "metadata": {},
   "outputs": [],
   "source": [
    "b = [('A1', 'B2'),('C1', 'A1', 'B2')]\n",
    "# TODO: xの出力 ； ['A1', 'B2', 'C1']\n",
    "\n",
    "x = {j for i in b for j in i}\n",
    "print(x)"
   ]
  },
  {
   "cell_type": "code",
   "execution_count": null,
   "metadata": {},
   "outputs": [],
   "source": [
    "b = [('A1', 'B2'),('C1', 'A1', 'B2')]\n",
    "x = {'C1', 'B2', 'A1'}\n",
    "\n",
    "y = {'C1', 'B2', 'X1'}\n",
    "print(x.union(y))"
   ]
  },
  {
   "cell_type": "code",
   "execution_count": null,
   "metadata": {},
   "outputs": [],
   "source": [
    "data2= {'H18': 10, 'H16': 11, 'H12': 16, 'B11': 5, 'D15': 9, 'I8': 13, 'G12': 18, 'G5': 6, 'H4': 8, 'J18': 8, 'D9': 9, 'F15': 12, 'D18': 13, 'C14': 5, 'G9': 10, 'I15': 7, 'F4': 12, 'A9': 5, 'B8': 10, 'B5': 11, 'B18': 6, 'A5': 7, 'F8': 6, 'F17': 6, 'F10': 7, 'D10': 6, 'E10': 7}\n",
    "x = [{i} for i in data2]\n",
    "print(x)"
   ]
  },
  {
   "cell_type": "code",
   "execution_count": null,
   "metadata": {},
   "outputs": [],
   "source": [
    "l2_data = {('H16', 'H18'): 6, ('I8', 'H18'): 5, ('G12', 'H18'): 5, ('H16', 'H12'): 5, ('H16', 'I8'): 5, ('H16', 'G12'): 6, ('I8', 'H12'): 7, ('H12', 'H4'): 5, ('H12', 'F15'): 5, ('D18', 'H12'): 7, ('G9', 'H12'): 5, ('H12', 'F4'): 6, ('D15', 'G12'): 5, ('I8', 'G12'): 5, ('I8', 'H4'): 7, ('G12', 'G5'): 5, ('G12', 'D9'): 6, ('G12', 'F15'): 5, ('D18', 'G12'): 5, ('C14', 'G12'): 5, ('G12', 'B8'): 5, ('G12', 'B5'): 8, ('J18', 'D9'): 5, ('J18', 'I15'): 5, ('B5', 'D9'): 5, ('D18', 'F15'): 6, ('B5', 'F15'): 5, ('D18', 'F4'): 5, ('D18', 'B5'): 5, ('B8', 'B5'): 6, ('A5', 'B8'): 6}\n",
    "x = [set(key) for key in l2_data]\n",
    "print(x)"
   ]
  },
  {
   "cell_type": "code",
   "execution_count": null,
   "metadata": {},
   "outputs": [],
   "source": [
    "\n",
    "data1_keys = [\n",
    "    ['I1', 'I2'],\n",
    "    ['I1', 'I3'],\n",
    "    ['I1', 'I5'],\n",
    "    ['I2', 'I3'],\n",
    "    ['I2', 'I4'],\n",
    "    ['I2', 'I5'],\n",
    "]\n",
    "\n",
    "data2_keys = {'I5', 'I2', 'I1', 'I3', 'I4'}\n",
    "\n",
    "# Create a set of all unique elements from data1_keys\n",
    "all_data_keys = {j for i in data1_keys for j in i}\n",
    "\n",
    "all_data_list = [i for i in data1_keys]\n",
    "\n",
    "combination_data = [\n",
    "    data1_keys[index_1].add(data2_element)\n",
    "    for index_1 in range(len(data1_keys))\n",
    "    for data2_element in all_data_keys\n",
    "]\n",
    "\n",
    "# combination_data = [data for data in combination_data\n",
    "#                     if len(data) == 3]\n",
    "\n",
    "print(combination_data)"
   ]
  },
  {
   "cell_type": "code",
   "execution_count": null,
   "metadata": {},
   "outputs": [],
   "source": [
    "l1_data = {('H18',): 10, ('H16',): 11, ('H12',): 16, ('B11',): 5, ('D15',): 9, ('I8',): 13, ('G12',): 18, ('G5',): 6, ('H4',): 8, ('J18',): 8, ('D9',): 9, ('F15',): 12, ('D18',): 13, ('C14',): 5, ('G9',): 10, ('I15',): 7, ('F4',): 12, ('A9',): 5, ('B8',): 10, ('B5',): 11, ('B18',): 6, ('A5',): 7, ('F8',): 6, ('F17',): 6, ('F10',): 7, ('D10',): 6, ('E10',): 7}\n",
    "l2_data = {('H16', 'H18'): 6, ('I8', 'H18'): 5, ('G12', 'H18'): 5, ('H16', 'H12'): 5, ('H16', 'I8'): 5, ('H16', 'G12'): 6, ('H12', 'I8'): 7, ('H12', 'H4'): 5, ('H12', 'F15'): 5, ('H12', 'D18'): 7, ('H12', 'G9'): 5, ('H12', 'F4'): 6, ('G12', 'D15'): 5, ('I8', 'G12'): 5, ('I8', 'H4'): 7, ('G12', 'G5'): 5, ('G12', 'D9'): 6, ('G12', 'F15'): 5, ('G12', 'D18'): 5, ('G12', 'C14'): 5, ('G12', 'B8'): 5, ('G12', 'B5'): 8, ('D9', 'J18'): 5, ('I15', 'J18'): 5, ('D9', 'B5'): 5, ('D18', 'F15'): 6, ('B5', 'F15'): 5, ('D18', 'F4'): 5, ('B5', 'D18'): 5, ('B5', 'B8'): 6, ('A5', 'B8'): 6}"
   ]
  },
  {
   "cell_type": "code",
   "execution_count": null,
   "metadata": {},
   "outputs": [],
   "source": [
    "testdata = [\n",
    "    ['I1', 'I2'],\n",
    "    ['I1', 'I3'],\n",
    "    ['I1', 'I5'],\n",
    "    ['I2', 'I3'],\n",
    "    ['I2', 'I4'],\n",
    "    ['I2', 'I5'],\n",
    "]\n"
   ]
  },
  {
   "cell_type": "code",
   "execution_count": null,
   "metadata": {},
   "outputs": [],
   "source": [
    "def extract_unique_element(l_data_keys: list) -> list:\n",
    "    unique_element = []\n",
    "    for tuple_data in l_data_keys:\n",
    "        for element in tuple_data:\n",
    "            if element not in unique_element:\n",
    "                unique_element.append(element)\n",
    "    return unique_element\n",
    "\n",
    "def create_combination(l_data: dict) -> list:\n",
    "    \"\"\"\n",
    "    function to create combination of two itemset data.\n",
    "    make sure its not doubled\n",
    "    ex: (A1, A3), (A3, A1) is considered the same.\n",
    "    \"\"\"\n",
    "    l_data_keys = [set(key) for key in l_data]\n",
    "    unique_element = extract_unique_element(l_data_keys)\n",
    "    combination_data = []\n",
    "    for l_data_set in l_data_keys:\n",
    "        for element in unique_element:\n",
    "            # create a new combined set\n",
    "            combined_set = set(l_data_set)\n",
    "            combined_set.add(element)\n",
    "            if (len(combined_set) == len(l_data_set) + 1) and (combined_set not in combination_data):\n",
    "                combination_data.append(combined_set)\n",
    "    # turn it into tuple again\n",
    "    combination_data = [tuple(data) for data in combination_data]\n",
    "    return combination_data\n",
    "    \n",
    "    \n",
    "a = create_combination(testdata)\n",
    "for i in a:\n",
    "    print(i)"
   ]
  },
  {
   "cell_type": "markdown",
   "metadata": {},
   "source": []
  },
  {
   "cell_type": "code",
   "execution_count": null,
   "metadata": {},
   "outputs": [],
   "source": [
    "def create_combination(data1: dict) -> list:\n",
    "    \"\"\"\n",
    "    function to create combination of two itemset data.\n",
    "    make sure its not doubled\n",
    "    ex: (A1, A3), (A3, A1) is considered the same.\n",
    "    \"\"\"\n",
    "    data1_keys = [{key} if type(key) == str else set(key) for key in data1]\n",
    "    # use set so the elements doesnt stack\n",
    "    combination_data = [\n",
    "        data1_keys[index_1].union(data1_keys[index_2])\n",
    "        for index_1 in range(len(data1_keys))\n",
    "        for index_2 in range(len(data1_keys))\n",
    "        if data1_keys[index_1] != data1_keys[index_2] and \n",
    "        index_1 < index_2\n",
    "    ]\n",
    "    # turn the set into list so it can be used as keys in dictionary\n",
    "    combination_data = [tuple(element) for element in combination_data]\n",
    "    return combination_data"
   ]
  },
  {
   "cell_type": "code",
   "execution_count": null,
   "metadata": {},
   "outputs": [],
   "source": [
    "my_tuple1 = (\"apple\", \"orange\")\n",
    "mylist1 = [(\"orange\", \"apple\")]\n",
    "\n",
    "print(my_tuple1 in mylist1)"
   ]
  },
  {
   "cell_type": "code",
   "execution_count": null,
   "metadata": {},
   "outputs": [],
   "source": [
    "my_tuple1 = (\"apple\", \"orange\")\n",
    "mylist1 = [(\"orange\", \"apple\")]\n",
    "\n",
    "# Convert the inner tuple of mylist1 to a tuple to ensure the comparison works correctly\n",
    "mylist1_tuples = [tuple(item) for item in mylist1]\n",
    "\n",
    "print(my_tuple1 in mylist1_tuples)  # Output: True\n"
   ]
  },
  {
   "cell_type": "code",
   "execution_count": null,
   "metadata": {},
   "outputs": [],
   "source": [
    "a = {1,2,3}\n",
    "a.add(6)\n",
    "print(a)"
   ]
  },
  {
   "cell_type": "code",
   "execution_count": 2,
   "metadata": {},
   "outputs": [],
   "source": [
    "V4 = {('E10', 'A5', 'E4', 'J18'): 2, ('D12', 'F15', 'B8', 'J18'): 2, ('A5', 'F15', 'J18', 'E4'): 2, ('G12', 'A5', 'B8', 'J18'): 2, ('A11', 'A5', 'B8', 'J18'): 2, ('G5', 'F15', 'J18', 'C3'): 2, ('K9', 'I5', 'D15', 'F18'): 2, ('H12', 'E10', 'F15', 'B8'): 2, ('A11', 'G5', 'F14', 'C3'): 2, ('E10', 'A5', 'E4', 'B8'): 2, ('F15', 'E4', 'B8', 'J18'): 2, ('F10', 'J5', 'B18', 'A15'): 2, ('E10', 'E4', 'B8', 'J18'): 2, ('K9', 'G6', 'F16', 'G12'): 3, ('E10', 'F15', 'B8', 'J18'): 3, ('G12', 'E10', 'B8', 'J18'): 2, ('H4', 'D18', 'H12', 'D15'): 2, ('C12', 'H4', 'B18', 'A15'): 2, ('G15', 'H12', 'H4', 'D15'): 2, ('E10', 'F15', 'B8', 'A5'): 3, ('B8', 'E10', 'H12', 'B18'): 2, ('B18', 'E10', 'F15', 'B8'): 2, ('A5', 'E4', 'B8', 'J18'): 2, ('F16', 'D18', 'G6', 'G12'): 2, ('K9', 'D18', 'G6', 'G12'): 2, ('E10', 'B8', 'J18', 'A5'): 2, ('F8', 'D10', 'H4', 'I18'): 2, ('F4', 'H16', 'G9', 'E12'): 2, ('G12', 'A11', 'F15', 'B8'): 2, ('E10', 'F15', 'J18', 'E4'): 2, ('A11', 'F4', 'D10', 'A15'): 2, ('E10', 'I8', 'J18', 'J5'): 2, ('E10', 'F15', 'A5', 'E4'): 2, ('K9', 'F10', 'F16', 'G12'): 2, ('D12', 'F15', 'B8', 'D5'): 2, ('B18', 'E10', 'F15', 'H12'): 2, ('F16', 'D18', 'K9', 'G6'): 2, ('A11', 'F15', 'G12', 'J18'): 2, ('A4', 'D3', 'B7', 'H18'): 2, ('A11', 'A5', 'F15', 'B8'): 2, ('G12', 'F15', 'B8', 'J18'): 2, ('G5', 'G12', 'J18', 'C3'): 2, ('E10', 'I8', 'G12', 'J18'): 2, ('D10', 'H16', 'H12', 'I18'): 2, ('D18', 'H12', 'H4', 'G15'): 2, ('A11', 'E10', 'B8', 'J18'): 2, ('F16', 'F10', 'G6', 'G12'): 2, ('K9', 'D18', 'F16', 'G12'): 2, ('A11', 'F14', 'E10', 'C3'): 2, ('G12', 'A11', 'A5', 'B8'): 2, ('A11', 'E10', 'F15', 'J18'): 2, ('A5', 'F15', 'B8', 'J18'): 3, ('E7', 'D10', 'H16', 'H12'): 2, ('A11', 'A5', 'F15', 'G12'): 2, ('A11', 'G5', 'E10', 'C3'): 2, ('E10', 'F15', 'B8', 'E4'): 2, ('A11', 'A5', 'F15', 'J18'): 2, ('F16', 'D10', 'C12', 'I18'): 2, ('F16', 'G6', 'C14', 'G12'): 2, ('K9', 'F10', 'G6', 'G12'): 2, ('F14', 'E10', 'F15', 'B8'): 2, ('K9', 'G6', 'C14', 'G12'): 2, ('D12', 'E10', 'F15', 'B8'): 2, ('A11', 'F15', 'B8', 'J18'): 3, ('H15', 'G12', 'E15', 'J5'): 2, ('C14', 'K9', 'G6', 'F16'): 2, ('G12', 'A5', 'F15', 'B8'): 2, ('D18', 'H12', 'D15', 'G15'): 2, ('A14', 'F8', 'G6', 'C12'): 2, ('G15', 'D18', 'H4', 'D15'): 2, ('F16', 'K9', 'C14', 'G12'): 2, ('A4', 'H16', 'B7', 'D3'): 2, ('B8', 'H12', 'F15', 'B18'): 2, ('E10', 'J18', 'I8', 'F17'): 2, ('A11', 'A5', 'G12', 'J18'): 2, ('G5', 'E10', 'F14', 'C3'): 2, ('F14', 'E10', 'B8', 'J18'): 2, ('A11', 'G5', 'E10', 'F14'): 2, ('F14', 'E10', 'F15', 'J18'): 2, ('E10', 'A5', 'F15', 'J18'): 2, ('B5', 'E10', 'B7', 'I18'): 2, ('A11', 'E10', 'F15', 'B8'): 2, ('F15', 'A5', 'E4', 'B8'): 2, ('G12', 'A11', 'B8', 'J18'): 2, ('K9', 'F10', 'G6', 'F16'): 2, ('A5', 'F15', 'G12', 'J18'): 2, ('E10', 'I15', 'B8', 'J18'): 2, ('F14', 'F15', 'B8', 'J18'): 2}\n",
    "v5 =  {('F14', 'E10', 'B18', 'J5'): 2, ('K10', 'E17', 'A2', 'A18'): 2, ('G9', 'F4', 'D15', 'H18'): 2, ('C14', 'H10', 'A7', 'D9'): 2, ('E17', 'A6', 'D10', 'A18'): 2, ('K10', 'E17', 'A2', 'A6'): 2, ('G12', 'E16', 'B18', 'H8'): 2, ('F14', 'E10', 'A15', 'J5'): 2, ('H10', 'A7', 'B18', 'D9'): 2, ('G5', 'H10', 'B18', 'D9'): 2, ('D18', 'C15', 'H4', 'G15'): 2, ('A11', 'F14', 'B18', 'A15'): 2, ('K10', 'A2', 'A6', 'A18'): 2, ('F17', 'F8', 'H12', 'D3'): 2, ('B5', 'E14', 'F8', 'H12'): 2, ('E17', 'K10', 'D10', 'A18'): 2, ('H12', 'A2', 'A6', 'A18'): 2, ('E17', 'A2', 'A6', 'A18'): 2, ('K10', 'H12', 'D10', 'A18'): 2, ('A6', 'E17', 'H12', 'D10'): 2, ('E10', 'B18', 'A15', 'J5'): 2, ('G9', 'F4', 'B11', 'D15'): 2, ('D18', 'H4', 'G15', 'G13'): 2, ('B5', 'F14', 'I18', 'E15'): 2, ('G5', 'D9', 'B18', 'A15'): 2, ('E14', 'D18', 'B11', 'A13'): 2, ('K10', 'E17', 'A2', 'D10'): 2, ('K10', 'A2', 'H12', 'D10'): 2, ('K10', 'H12', 'A6', 'A18'): 2, ('F16', 'D10', 'H12', 'K15'): 2, ('K10', 'H12', 'A6', 'D10'): 2, ('K10', 'A2', 'D10', 'A18'): 2, ('E17', 'H12', 'D10', 'A18'): 2, ('A6', 'K10', 'A2', 'H12'): 2, ('K10', 'E17', 'H12', 'A18'): 2, ('E12', 'A5', 'B8', 'I14'): 2, ('D18', 'C15', 'H4', 'G13'): 2, ('K10', 'E17', 'H12', 'A6'): 2, ('A11', 'E10', 'B18', 'A15'): 2, ('K10', 'E17', 'A2', 'H12'): 2, ('A5', 'F15', 'B8', 'J18'): 2, ('D10', 'A2', 'H12', 'A18'): 2, ('C14', 'H10', 'B18', 'D9'): 2, ('E17', 'A2', 'H12', 'A18'): 2, ('G9', 'B11', 'D15', 'H18'): 2, ('F8', 'B10', 'F5', 'F12'): 2, ('G5', 'H10', 'B18', 'A15'): 2, ('E17', 'H12', 'A2', 'A6'): 2, ('H12', 'A6', 'D10', 'A18'): 2, ('E17', 'A2', 'D10', 'A18'): 2, ('K10', 'A2', 'H12', 'A18'): 2, ('F14', 'A15', 'B18', 'D9'): 2, ('E17', 'D10', 'A2', 'A6'): 2, ('C14', 'H10', 'A7', 'B18'): 2, ('E14', 'F8', 'B10', 'I16'): 2, ('A14', 'F8', 'H4', 'C12'): 2, ('F4', 'B11', 'D15', 'H18'): 2, ('G5', 'H10', 'D9', 'A15'): 2, ('F14', 'H10', 'B18', 'G5'): 2, ('G15', 'C15', 'H4', 'G13'): 2, ('K10', 'A6', 'D10', 'A18'): 2, ('K10', 'D10', 'A2', 'A6'): 2, ('H12', 'D10', 'A2', 'A6'): 2, ('F14', 'E10', 'B18', 'A15'): 3, ('F14', 'J5', 'B18', 'A15'): 2, ('K10', 'E17', 'A6', 'D10'): 2, ('G5', 'H10', 'B18', 'G13'): 2, ('A11', 'F14', 'E10', 'B18'): 2, ('K10', 'E17', 'A6', 'A18'): 2, ('A11', 'F14', 'E10', 'A15'): 2, ('D10', 'A2', 'A6', 'A18'): 2, ('K10', 'E17', 'H12', 'D10'): 2, ('D18', 'C15', 'G15', 'G13'): 2, ('H10', 'B18', 'D9', 'C3'): 2, ('G9', 'F4', 'B11', 'H18'): 2, ('E17', 'A2', 'H12', 'D10'): 2, ('H10', 'A15', 'B18', 'D9'): 2, ('E17', 'H12', 'A6', 'A18'): 2, ('A6', 'I16', 'F8', 'I18'): 2, ('C14', 'A7', 'B18', 'D9'): 2, ('C14', 'F8', 'B10', 'F12'): 2}"
   ]
  },
  {
   "cell_type": "code",
   "execution_count": null,
   "metadata": {},
   "outputs": [],
   "source": [
    "V4 = {('E10', 'A5', 'E4', 'J18'): 2, ('E10', 'E4', 'J18', 'A5'): 2}"
   ]
  },
  {
   "cell_type": "code",
   "execution_count": 7,
   "metadata": {},
   "outputs": [
    {
     "name": "stdout",
     "output_type": "stream",
     "text": [
      "True\n"
     ]
    }
   ],
   "source": [
    "a = ('A', 'B')\n",
    "a = set(a)\n",
    "b = ('B', 'A')\n",
    "b = set(b)\n",
    "\n",
    "print(a == b)"
   ]
  },
  {
   "cell_type": "code",
   "execution_count": 10,
   "metadata": {},
   "outputs": [
    {
     "name": "stdout",
     "output_type": "stream",
     "text": [
      "88\n",
      "88\n"
     ]
    }
   ],
   "source": [
    "testset = set()\n",
    "for i in V4:\n",
    "    testset = testset | {i}\n",
    "print(len(testset))\n",
    "print(len(V4))"
   ]
  },
  {
   "cell_type": "code",
   "execution_count": null,
   "metadata": {},
   "outputs": [],
   "source": []
  }
 ],
 "metadata": {
  "kernelspec": {
   "display_name": "proA",
   "language": "python",
   "name": "python3"
  },
  "language_info": {
   "codemirror_mode": {
    "name": "ipython",
    "version": 3
   },
   "file_extension": ".py",
   "mimetype": "text/x-python",
   "name": "python",
   "nbconvert_exporter": "python",
   "pygments_lexer": "ipython3",
   "version": "3.9.undefined"
  }
 },
 "nbformat": 4,
 "nbformat_minor": 2
}
