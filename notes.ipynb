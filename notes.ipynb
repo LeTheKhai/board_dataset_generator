{
 "cells": [
  {
   "cell_type": "code",
   "execution_count": 13,
   "metadata": {},
   "outputs": [
    {
     "name": "stdout",
     "output_type": "stream",
     "text": [
      "[{1, 2}, {1, 3}, {2, 3}]\n"
     ]
    }
   ],
   "source": [
    "a = [1,2,3]\n",
    "b = [1,2,3]\n",
    "c = []\n",
    "for i in a:\n",
    "    for j in b:\n",
    "        if i != j and {i,j} not in c:\n",
    "            c.append({i,j})\n",
    "\n",
    "print(c)"
   ]
  },
  {
   "cell_type": "code",
   "execution_count": 18,
   "metadata": {},
   "outputs": [
    {
     "name": "stdout",
     "output_type": "stream",
     "text": [
      "[{1, 2}, {1, 3}, {2, 3}]\n"
     ]
    }
   ],
   "source": [
    "a = [1,2,3]\n",
    "b = [1,2,3]\n",
    "c = []\n",
    "c = [{i, j} for i in a for j in b if (i != j) and i < j]\n",
    "print(c)"
   ]
  },
  {
   "cell_type": "code",
   "execution_count": 20,
   "metadata": {},
   "outputs": [
    {
     "data": {
      "text/plain": [
       "351"
      ]
     },
     "execution_count": 20,
     "metadata": {},
     "output_type": "execute_result"
    }
   ],
   "source": [
    "ans = 0\n",
    "for i in range(1,27):\n",
    "    ans += i\n",
    "ans"
   ]
  },
  {
   "cell_type": "code",
   "execution_count": 30,
   "metadata": {},
   "outputs": [
    {
     "name": "stdout",
     "output_type": "stream",
     "text": [
      "True\n"
     ]
    }
   ],
   "source": [
    "a = ['H18', 'H16', 'H12', 'B11', 'D15', 'I8', 'K9', 'G12', 'G5', 'H4']\n",
    "b = ('H12', 'H18')\n",
    "\n",
    "if all(elem in a for elem in b):\n",
    "    print(True)\n",
    "else:\n",
    "    print(False)"
   ]
  },
  {
   "cell_type": "code",
   "execution_count": 32,
   "metadata": {},
   "outputs": [
    {
     "name": "stdout",
     "output_type": "stream",
     "text": [
      "1\n"
     ]
    }
   ],
   "source": [
    "a = ['H18', 'H16', 'H12', 'B11', 'D15', 'I8', 'K9', 'G12', 'G5', 'H4']\n",
    "b = ('H12')\n",
    "\n",
    "# l1_data = {key:data.count(key) for key in data if data.count(key) > self.min_support_count}\n",
    "c = a.count(b)\n",
    "print(c)"
   ]
  },
  {
   "cell_type": "code",
   "execution_count": 38,
   "metadata": {},
   "outputs": [
    {
     "name": "stdout",
     "output_type": "stream",
     "text": [
      "{'C1', 'B2', 'A1'}\n"
     ]
    }
   ],
   "source": [
    "b = [('A1', 'B2'),('C1', 'A1', 'B2')]\n",
    "# TODO: xの出力 ； ['A1', 'B2', 'C1']\n",
    "\n",
    "x = {j for i in b for j in i}\n",
    "print(x)"
   ]
  },
  {
   "cell_type": "code",
   "execution_count": 41,
   "metadata": {},
   "outputs": [
    {
     "name": "stdout",
     "output_type": "stream",
     "text": [
      "{'X1', 'C1', 'B2', 'A1'}\n"
     ]
    }
   ],
   "source": [
    "b = [('A1', 'B2'),('C1', 'A1', 'B2')]\n",
    "x = {'C1', 'B2', 'A1'}\n",
    "\n",
    "y = {'C1', 'B2', 'X1'}\n",
    "print(x.union(y))"
   ]
  },
  {
   "cell_type": "code",
   "execution_count": 46,
   "metadata": {},
   "outputs": [
    {
     "name": "stdout",
     "output_type": "stream",
     "text": [
      "[{'H18'}, {'H16'}, {'H12'}, {'B11'}, {'D15'}, {'I8'}, {'G12'}, {'G5'}, {'H4'}, {'J18'}, {'D9'}, {'F15'}, {'D18'}, {'C14'}, {'G9'}, {'I15'}, {'F4'}, {'A9'}, {'B8'}, {'B5'}, {'B18'}, {'A5'}, {'F8'}, {'F17'}, {'F10'}, {'D10'}, {'E10'}]\n"
     ]
    }
   ],
   "source": [
    "data2= {'H18': 10, 'H16': 11, 'H12': 16, 'B11': 5, 'D15': 9, 'I8': 13, 'G12': 18, 'G5': 6, 'H4': 8, 'J18': 8, 'D9': 9, 'F15': 12, 'D18': 13, 'C14': 5, 'G9': 10, 'I15': 7, 'F4': 12, 'A9': 5, 'B8': 10, 'B5': 11, 'B18': 6, 'A5': 7, 'F8': 6, 'F17': 6, 'F10': 7, 'D10': 6, 'E10': 7}\n",
    "x = [{i} for i in data2]\n",
    "print(x)"
   ]
  },
  {
   "cell_type": "code",
   "execution_count": 48,
   "metadata": {},
   "outputs": [
    {
     "name": "stdout",
     "output_type": "stream",
     "text": [
      "[{'H18', 'H16'}, {'I8', 'H18'}, {'G12', 'H18'}, {'H12', 'H16'}, {'I8', 'H16'}, {'G12', 'H16'}, {'I8', 'H12'}, {'H4', 'H12'}, {'H12', 'F15'}, {'D18', 'H12'}, {'H12', 'G9'}, {'H12', 'F4'}, {'D15', 'G12'}, {'I8', 'G12'}, {'H4', 'I8'}, {'G5', 'G12'}, {'D9', 'G12'}, {'F15', 'G12'}, {'D18', 'G12'}, {'C14', 'G12'}, {'B8', 'G12'}, {'G12', 'B5'}, {'D9', 'J18'}, {'I15', 'J18'}, {'D9', 'B5'}, {'D18', 'F15'}, {'F15', 'B5'}, {'D18', 'F4'}, {'D18', 'B5'}, {'B8', 'B5'}, {'A5', 'B8'}]\n"
     ]
    }
   ],
   "source": [
    "l2_data = {('H16', 'H18'): 6, ('I8', 'H18'): 5, ('G12', 'H18'): 5, ('H16', 'H12'): 5, ('H16', 'I8'): 5, ('H16', 'G12'): 6, ('I8', 'H12'): 7, ('H12', 'H4'): 5, ('H12', 'F15'): 5, ('D18', 'H12'): 7, ('G9', 'H12'): 5, ('H12', 'F4'): 6, ('D15', 'G12'): 5, ('I8', 'G12'): 5, ('I8', 'H4'): 7, ('G12', 'G5'): 5, ('G12', 'D9'): 6, ('G12', 'F15'): 5, ('D18', 'G12'): 5, ('C14', 'G12'): 5, ('G12', 'B8'): 5, ('G12', 'B5'): 8, ('J18', 'D9'): 5, ('J18', 'I15'): 5, ('B5', 'D9'): 5, ('D18', 'F15'): 6, ('B5', 'F15'): 5, ('D18', 'F4'): 5, ('D18', 'B5'): 5, ('B8', 'B5'): 6, ('A5', 'B8'): 6}\n",
    "x = [set(key) for key in l2_data]\n",
    "print(x)"
   ]
  },
  {
   "cell_type": "code",
   "execution_count": 63,
   "metadata": {},
   "outputs": [
    {
     "name": "stdout",
     "output_type": "stream",
     "text": [
      "['I1', 'I2', 'I3', 'I5', 'I4']\n",
      "\n"
     ]
    }
   ],
   "source": [
    "\n",
    "data1_keys = [\n",
    "    ['I1', 'I2'],\n",
    "    ['I1', 'I3'],\n",
    "    ['I1', 'I5'],\n",
    "    ['I2', 'I3'],\n",
    "    ['I2', 'I4'],\n",
    "    ['I2', 'I5'],\n",
    "]\n",
    "\n",
    "data2_keys = {'I5', 'I2', 'I1', 'I3', 'I4'}\n",
    "\n",
    "# Create a set of all unique elements from data1_keys\n",
    "all_data_keys = {j for i in data1_keys for j in i}\n",
    "\n",
    "all_data_list = [i for i in data1_keys]\n",
    "\n",
    "combination_data = [\n",
    "    data1_keys[index_1].add(data2_element)\n",
    "    for index_1 in range(len(data1_keys))\n",
    "    for data2_element in all_data_keys\n",
    "]\n",
    "\n",
    "# combination_data = [data for data in combination_data\n",
    "#                     if len(data) == 3]\n",
    "\n",
    "print(combination_data)"
   ]
  },
  {
   "cell_type": "code",
   "execution_count": 66,
   "metadata": {},
   "outputs": [],
   "source": [
    "l1_data = {('H18',): 10, ('H16',): 11, ('H12',): 16, ('B11',): 5, ('D15',): 9, ('I8',): 13, ('G12',): 18, ('G5',): 6, ('H4',): 8, ('J18',): 8, ('D9',): 9, ('F15',): 12, ('D18',): 13, ('C14',): 5, ('G9',): 10, ('I15',): 7, ('F4',): 12, ('A9',): 5, ('B8',): 10, ('B5',): 11, ('B18',): 6, ('A5',): 7, ('F8',): 6, ('F17',): 6, ('F10',): 7, ('D10',): 6, ('E10',): 7}\n",
    "l2_data = {('H16', 'H18'): 6, ('I8', 'H18'): 5, ('G12', 'H18'): 5, ('H16', 'H12'): 5, ('H16', 'I8'): 5, ('H16', 'G12'): 6, ('H12', 'I8'): 7, ('H12', 'H4'): 5, ('H12', 'F15'): 5, ('H12', 'D18'): 7, ('H12', 'G9'): 5, ('H12', 'F4'): 6, ('G12', 'D15'): 5, ('I8', 'G12'): 5, ('I8', 'H4'): 7, ('G12', 'G5'): 5, ('G12', 'D9'): 6, ('G12', 'F15'): 5, ('G12', 'D18'): 5, ('G12', 'C14'): 5, ('G12', 'B8'): 5, ('G12', 'B5'): 8, ('D9', 'J18'): 5, ('I15', 'J18'): 5, ('D9', 'B5'): 5, ('D18', 'F15'): 6, ('B5', 'F15'): 5, ('D18', 'F4'): 5, ('B5', 'D18'): 5, ('B5', 'B8'): 6, ('A5', 'B8'): 6}"
   ]
  },
  {
   "cell_type": "code",
   "execution_count": 96,
   "metadata": {},
   "outputs": [],
   "source": [
    "testdata = [\n",
    "    ['I1', 'I2'],\n",
    "    ['I1', 'I3'],\n",
    "    ['I1', 'I5'],\n",
    "    ['I2', 'I3'],\n",
    "    ['I2', 'I4'],\n",
    "    ['I2', 'I5'],\n",
    "]\n"
   ]
  },
  {
   "cell_type": "code",
   "execution_count": 100,
   "metadata": {},
   "outputs": [
    {
     "name": "stdout",
     "output_type": "stream",
     "text": [
      "('I1', 'I2', 'I3')\n",
      "('I5', 'I1', 'I2')\n",
      "('I1', 'I2', 'I4')\n",
      "('I5', 'I1', 'I3')\n",
      "('I1', 'I3', 'I4')\n",
      "('I5', 'I1', 'I4')\n",
      "('I5', 'I2', 'I3')\n",
      "('I2', 'I3', 'I4')\n",
      "('I5', 'I2', 'I4')\n"
     ]
    }
   ],
   "source": [
    "def extract_unique_element(l_data_keys: list) -> list:\n",
    "    unique_element = []\n",
    "    for tuple_data in l_data_keys:\n",
    "        for element in tuple_data:\n",
    "            if element not in unique_element:\n",
    "                unique_element.append(element)\n",
    "    return unique_element\n",
    "\n",
    "def create_combination(l_data: dict) -> list:\n",
    "    \"\"\"\n",
    "    function to create combination of two itemset data.\n",
    "    make sure its not doubled\n",
    "    ex: (A1, A3), (A3, A1) is considered the same.\n",
    "    \"\"\"\n",
    "    l_data_keys = [set(key) for key in l_data]\n",
    "    unique_element = extract_unique_element(l_data_keys)\n",
    "    combination_data = []\n",
    "    for l_data_set in l_data_keys:\n",
    "        for element in unique_element:\n",
    "            # create a new combined set\n",
    "            combined_set = set(l_data_set)\n",
    "            combined_set.add(element)\n",
    "            if (len(combined_set) == len(l_data_set) + 1) and (combined_set not in combination_data):\n",
    "                combination_data.append(combined_set)\n",
    "    # turn it into tuple again\n",
    "    combination_data = [tuple(data) for data in combination_data]\n",
    "    return combination_data\n",
    "    \n",
    "    \n",
    "a = create_combination(testdata)\n",
    "for i in a:\n",
    "    print(i)"
   ]
  },
  {
   "cell_type": "markdown",
   "metadata": {},
   "source": []
  },
  {
   "cell_type": "markdown",
   "metadata": {},
   "source": []
  },
  {
   "cell_type": "code",
   "execution_count": null,
   "metadata": {},
   "outputs": [],
   "source": [
    "def create_combination(data1: dict) -> list:\n",
    "    \"\"\"\n",
    "    function to create combination of two itemset data.\n",
    "    make sure its not doubled\n",
    "    ex: (A1, A3), (A3, A1) is considered the same.\n",
    "    \"\"\"\n",
    "    data1_keys = [{key} if type(key) == str else set(key) for key in data1]\n",
    "    # use set so the elements doesnt stack\n",
    "    combination_data = [\n",
    "        data1_keys[index_1].union(data1_keys[index_2])\n",
    "        for index_1 in range(len(data1_keys))\n",
    "        for index_2 in range(len(data1_keys))\n",
    "        if data1_keys[index_1] != data1_keys[index_2] and \n",
    "        index_1 < index_2\n",
    "    ]\n",
    "    # turn the set into list so it can be used as keys in dictionary\n",
    "    combination_data = [tuple(element) for element in combination_data]\n",
    "    return combination_data"
   ]
  },
  {
   "cell_type": "code",
   "execution_count": 74,
   "metadata": {},
   "outputs": [
    {
     "name": "stdout",
     "output_type": "stream",
     "text": [
      "False\n"
     ]
    }
   ],
   "source": [
    "my_tuple1 = (\"apple\", \"orange\")\n",
    "mylist1 = [(\"orange\", \"apple\")]\n",
    "\n",
    "print(my_tuple1 in mylist1)"
   ]
  },
  {
   "cell_type": "code",
   "execution_count": 75,
   "metadata": {},
   "outputs": [
    {
     "name": "stdout",
     "output_type": "stream",
     "text": [
      "False\n"
     ]
    }
   ],
   "source": [
    "my_tuple1 = (\"apple\", \"orange\")\n",
    "mylist1 = [(\"orange\", \"apple\")]\n",
    "\n",
    "# Convert the inner tuple of mylist1 to a tuple to ensure the comparison works correctly\n",
    "mylist1_tuples = [tuple(item) for item in mylist1]\n",
    "\n",
    "print(my_tuple1 in mylist1_tuples)  # Output: True\n"
   ]
  },
  {
   "cell_type": "code",
   "execution_count": 88,
   "metadata": {},
   "outputs": [
    {
     "name": "stdout",
     "output_type": "stream",
     "text": [
      "{1, 2, 3, 6}\n"
     ]
    }
   ],
   "source": [
    "a = {1,2,3}\n",
    "a.add(6)\n",
    "print(a)"
   ]
  },
  {
   "cell_type": "code",
   "execution_count": null,
   "metadata": {},
   "outputs": [],
   "source": []
  }
 ],
 "metadata": {
  "kernelspec": {
   "display_name": "proA",
   "language": "python",
   "name": "python3"
  },
  "language_info": {
   "codemirror_mode": {
    "name": "ipython",
    "version": 3
   },
   "file_extension": ".py",
   "mimetype": "text/x-python",
   "name": "python",
   "nbconvert_exporter": "python",
   "pygments_lexer": "ipython3",
   "version": "3.9.16"
  }
 },
 "nbformat": 4,
 "nbformat_minor": 2
}
